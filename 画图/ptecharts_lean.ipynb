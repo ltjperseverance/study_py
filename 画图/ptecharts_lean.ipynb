{
 "cells": [
  {
   "cell_type": "code",
   "execution_count": 1,
   "id": "0126825d-6a55-4eb9-a2cc-8ee8a0d63b04",
   "metadata": {},
   "outputs": [],
   "source": [
    "# https://gallery.pyecharts.org/#/Line/line_itemstyle\n",
    "from pyecharts.globals import CurrentConfig, NotebookType"
   ]
  },
  {
   "cell_type": "code",
   "execution_count": 2,
   "id": "00781a1a-7f50-48da-937c-5d872ae05785",
   "metadata": {},
   "outputs": [],
   "source": [
    "CurrentConfig.NOTEBOOK_TYPE = NotebookType.JUPYTER_LAB"
   ]
  },
  {
   "cell_type": "code",
   "execution_count": 3,
   "id": "23c9a490-4bfa-4b1e-a2c2-25c055d3051a",
   "metadata": {},
   "outputs": [],
   "source": [
    "from pyecharts.charts import Bar, Line"
   ]
  },
  {
   "cell_type": "code",
   "execution_count": 4,
   "id": "1cc1fd21-e894-4025-88c4-49b4d739a3b4",
   "metadata": {},
   "outputs": [],
   "source": [
    "from pyecharts import options as opts"
   ]
  },
  {
   "cell_type": "code",
   "execution_count": 5,
   "id": "36b4e37b-012a-444f-b01d-c8f7a86a5294",
   "metadata": {},
   "outputs": [],
   "source": [
    "bar = (\n",
    "    Bar()\n",
    "    .add_xaxis([\"衬衫\", \"毛衣\", \"领带\", \"裤子\", \"风衣\", \"高跟鞋\", \"袜子\"])\n",
    "    .add_yaxis(\"商家A\", [114, 55, 27, 101, 125, 27, 105])\n",
    "    .add_yaxis(\"商家B\", [57, 134, 137, 129, 145, 60, 49])\n",
    "    .set_global_opts(title_opts=opts.TitleOpts(title=\"某商场销售情况\"))\n",
    ")"
   ]
  },
  {
   "cell_type": "code",
   "execution_count": 6,
   "id": "c04f337c-0109-4143-b4dd-4c9a185c8a82",
   "metadata": {},
   "outputs": [
    {
     "data": {
      "application/javascript": [
       "new Promise(function(resolve, reject) {\n",
       "    var script = document.createElement(\"script\");\n",
       "    script.onload = resolve;\n",
       "    script.onerror = reject;\n",
       "    script.src = \"https://assets.pyecharts.org/assets/echarts.min.js\";\n",
       "    document.head.appendChild(script);\n",
       "}).then(() => {\n",
       "\n",
       "});"
      ],
      "text/plain": [
       "<pyecharts.render.display.Javascript at 0x2ddcbbff9d0>"
      ]
     },
     "execution_count": 6,
     "metadata": {},
     "output_type": "execute_result"
    }
   ],
   "source": [
    "bar.load_javascript()"
   ]
  },
  {
   "cell_type": "code",
   "execution_count": 7,
   "id": "24cae060-64fd-4c97-a528-2b095cb7550a",
   "metadata": {},
   "outputs": [
    {
     "data": {
      "text/html": [
       "<!DOCTYPE html>\n",
       "<html>\n",
       "<head>\n",
       "    <meta charset=\"UTF-8\">\n",
       "</head>\n",
       "<body>\n",
       "        <div id=\"6e7517d3667b4cfabedfc5acd6171b9f\" class=\"chart-container\" style=\"width:900px; height:500px;\"></div>\n",
       "    <script>\n",
       "        var chart_6e7517d3667b4cfabedfc5acd6171b9f = echarts.init(\n",
       "            document.getElementById('6e7517d3667b4cfabedfc5acd6171b9f'), 'white', {renderer: 'canvas'});\n",
       "        var option_6e7517d3667b4cfabedfc5acd6171b9f = {\n",
       "    \"animation\": true,\n",
       "    \"animationThreshold\": 2000,\n",
       "    \"animationDuration\": 1000,\n",
       "    \"animationEasing\": \"cubicOut\",\n",
       "    \"animationDelay\": 0,\n",
       "    \"animationDurationUpdate\": 300,\n",
       "    \"animationEasingUpdate\": \"cubicOut\",\n",
       "    \"animationDelayUpdate\": 0,\n",
       "    \"color\": [\n",
       "        \"#c23531\",\n",
       "        \"#2f4554\",\n",
       "        \"#61a0a8\",\n",
       "        \"#d48265\",\n",
       "        \"#749f83\",\n",
       "        \"#ca8622\",\n",
       "        \"#bda29a\",\n",
       "        \"#6e7074\",\n",
       "        \"#546570\",\n",
       "        \"#c4ccd3\",\n",
       "        \"#f05b72\",\n",
       "        \"#ef5b9c\",\n",
       "        \"#f47920\",\n",
       "        \"#905a3d\",\n",
       "        \"#fab27b\",\n",
       "        \"#2a5caa\",\n",
       "        \"#444693\",\n",
       "        \"#726930\",\n",
       "        \"#b2d235\",\n",
       "        \"#6d8346\",\n",
       "        \"#ac6767\",\n",
       "        \"#1d953f\",\n",
       "        \"#6950a1\",\n",
       "        \"#918597\"\n",
       "    ],\n",
       "    \"series\": [\n",
       "        {\n",
       "            \"type\": \"bar\",\n",
       "            \"name\": \"\\u5546\\u5bb6A\",\n",
       "            \"legendHoverLink\": true,\n",
       "            \"data\": [\n",
       "                114,\n",
       "                55,\n",
       "                27,\n",
       "                101,\n",
       "                125,\n",
       "                27,\n",
       "                105\n",
       "            ],\n",
       "            \"showBackground\": false,\n",
       "            \"barMinHeight\": 0,\n",
       "            \"barCategoryGap\": \"20%\",\n",
       "            \"barGap\": \"30%\",\n",
       "            \"large\": false,\n",
       "            \"largeThreshold\": 400,\n",
       "            \"seriesLayoutBy\": \"column\",\n",
       "            \"datasetIndex\": 0,\n",
       "            \"clip\": true,\n",
       "            \"zlevel\": 0,\n",
       "            \"z\": 2,\n",
       "            \"label\": {\n",
       "                \"show\": true,\n",
       "                \"position\": \"top\",\n",
       "                \"margin\": 8\n",
       "            }\n",
       "        },\n",
       "        {\n",
       "            \"type\": \"bar\",\n",
       "            \"name\": \"\\u5546\\u5bb6B\",\n",
       "            \"legendHoverLink\": true,\n",
       "            \"data\": [\n",
       "                57,\n",
       "                134,\n",
       "                137,\n",
       "                129,\n",
       "                145,\n",
       "                60,\n",
       "                49\n",
       "            ],\n",
       "            \"showBackground\": false,\n",
       "            \"barMinHeight\": 0,\n",
       "            \"barCategoryGap\": \"20%\",\n",
       "            \"barGap\": \"30%\",\n",
       "            \"large\": false,\n",
       "            \"largeThreshold\": 400,\n",
       "            \"seriesLayoutBy\": \"column\",\n",
       "            \"datasetIndex\": 0,\n",
       "            \"clip\": true,\n",
       "            \"zlevel\": 0,\n",
       "            \"z\": 2,\n",
       "            \"label\": {\n",
       "                \"show\": true,\n",
       "                \"position\": \"top\",\n",
       "                \"margin\": 8\n",
       "            }\n",
       "        }\n",
       "    ],\n",
       "    \"legend\": [\n",
       "        {\n",
       "            \"data\": [\n",
       "                \"\\u5546\\u5bb6A\",\n",
       "                \"\\u5546\\u5bb6B\"\n",
       "            ],\n",
       "            \"selected\": {\n",
       "                \"\\u5546\\u5bb6A\": true,\n",
       "                \"\\u5546\\u5bb6B\": true\n",
       "            },\n",
       "            \"show\": true,\n",
       "            \"padding\": 5,\n",
       "            \"itemGap\": 10,\n",
       "            \"itemWidth\": 25,\n",
       "            \"itemHeight\": 14\n",
       "        }\n",
       "    ],\n",
       "    \"tooltip\": {\n",
       "        \"show\": true,\n",
       "        \"trigger\": \"item\",\n",
       "        \"triggerOn\": \"mousemove|click\",\n",
       "        \"axisPointer\": {\n",
       "            \"type\": \"line\"\n",
       "        },\n",
       "        \"showContent\": true,\n",
       "        \"alwaysShowContent\": false,\n",
       "        \"showDelay\": 0,\n",
       "        \"hideDelay\": 100,\n",
       "        \"textStyle\": {\n",
       "            \"fontSize\": 14\n",
       "        },\n",
       "        \"borderWidth\": 0,\n",
       "        \"padding\": 5\n",
       "    },\n",
       "    \"xAxis\": [\n",
       "        {\n",
       "            \"show\": true,\n",
       "            \"scale\": false,\n",
       "            \"nameLocation\": \"end\",\n",
       "            \"nameGap\": 15,\n",
       "            \"gridIndex\": 0,\n",
       "            \"inverse\": false,\n",
       "            \"offset\": 0,\n",
       "            \"splitNumber\": 5,\n",
       "            \"minInterval\": 0,\n",
       "            \"splitLine\": {\n",
       "                \"show\": false,\n",
       "                \"lineStyle\": {\n",
       "                    \"show\": true,\n",
       "                    \"width\": 1,\n",
       "                    \"opacity\": 1,\n",
       "                    \"curveness\": 0,\n",
       "                    \"type\": \"solid\"\n",
       "                }\n",
       "            },\n",
       "            \"data\": [\n",
       "                \"\\u886c\\u886b\",\n",
       "                \"\\u6bdb\\u8863\",\n",
       "                \"\\u9886\\u5e26\",\n",
       "                \"\\u88e4\\u5b50\",\n",
       "                \"\\u98ce\\u8863\",\n",
       "                \"\\u9ad8\\u8ddf\\u978b\",\n",
       "                \"\\u889c\\u5b50\"\n",
       "            ]\n",
       "        }\n",
       "    ],\n",
       "    \"yAxis\": [\n",
       "        {\n",
       "            \"show\": true,\n",
       "            \"scale\": false,\n",
       "            \"nameLocation\": \"end\",\n",
       "            \"nameGap\": 15,\n",
       "            \"gridIndex\": 0,\n",
       "            \"inverse\": false,\n",
       "            \"offset\": 0,\n",
       "            \"splitNumber\": 5,\n",
       "            \"minInterval\": 0,\n",
       "            \"splitLine\": {\n",
       "                \"show\": false,\n",
       "                \"lineStyle\": {\n",
       "                    \"show\": true,\n",
       "                    \"width\": 1,\n",
       "                    \"opacity\": 1,\n",
       "                    \"curveness\": 0,\n",
       "                    \"type\": \"solid\"\n",
       "                }\n",
       "            }\n",
       "        }\n",
       "    ],\n",
       "    \"title\": [\n",
       "        {\n",
       "            \"text\": \"\\u67d0\\u5546\\u573a\\u9500\\u552e\\u60c5\\u51b5\",\n",
       "            \"padding\": 5,\n",
       "            \"itemGap\": 10\n",
       "        }\n",
       "    ]\n",
       "};\n",
       "        chart_6e7517d3667b4cfabedfc5acd6171b9f.setOption(option_6e7517d3667b4cfabedfc5acd6171b9f);\n",
       "    </script>\n",
       "</body>\n",
       "</html>\n"
      ],
      "text/plain": [
       "<pyecharts.render.display.HTML at 0x2ddcbc9cd00>"
      ]
     },
     "execution_count": 7,
     "metadata": {},
     "output_type": "execute_result"
    }
   ],
   "source": [
    "bar.render_notebook()"
   ]
  },
  {
   "cell_type": "code",
   "execution_count": 8,
   "id": "be5469fd-4b9d-4b9e-a4ae-c3702e40ad4e",
   "metadata": {},
   "outputs": [],
   "source": [
    "import pandas as pd"
   ]
  },
  {
   "cell_type": "code",
   "execution_count": 9,
   "id": "864e1e8a-88b7-4f33-91bd-59588c639b6c",
   "metadata": {},
   "outputs": [],
   "source": [
    "df = pd.read_excel('data1.xlsx')"
   ]
  },
  {
   "cell_type": "code",
   "execution_count": 10,
   "id": "ec79d68d-93de-46e5-a66b-89eb112e364a",
   "metadata": {},
   "outputs": [],
   "source": [
    "x = df['weekly']"
   ]
  },
  {
   "cell_type": "code",
   "execution_count": 12,
   "id": "6677b012-0080-43be-90a0-44b04f481a81",
   "metadata": {},
   "outputs": [],
   "source": [
    "y1 = df['so2021']"
   ]
  },
  {
   "cell_type": "code",
   "execution_count": null,
   "id": "188e3243-66bb-4863-bf57-31ab9c052536",
   "metadata": {},
   "outputs": [],
   "source": []
  },
  {
   "cell_type": "code",
   "execution_count": 13,
   "id": "6352de54-6cb3-4d23-9a7c-0cdb7e83de8b",
   "metadata": {},
   "outputs": [],
   "source": [
    "y2 = df['so2022']"
   ]
  },
  {
   "cell_type": "code",
   "execution_count": 14,
   "id": "fcfb19c8-cf60-4ab5-afea-4ee3d469ee90",
   "metadata": {},
   "outputs": [
    {
     "data": {
      "text/plain": [
       "<pyecharts.charts.basic_charts.line.Line at 0x2ddd4c679d0>"
      ]
     },
     "execution_count": 14,
     "metadata": {},
     "output_type": "execute_result"
    }
   ],
   "source": [
    "line = Line(init_opts=opts.InitOpts(width=\"1600px\", height=\"600px\"))\n",
    "line.add_xaxis(xaxis_data=x)\n",
    "line.add_yaxis(series_name=\"sell-out(2021)\",\n",
    "        y_axis=y1,is_smooth=True,  symbol_size=20,\n",
    "        # markpoint_opts=opts.MarkPointOpts(\n",
    "        #     data=[\n",
    "        #         opts.MarkPointItem(type_=\"max\", name=\"最大值\"),\n",
    "        #         opts.MarkPointItem(type_=\"min\", name=\"最小值\"),\n",
    "        #     ]\n",
    "        # ),\n",
    "        # markline_opts=opts.MarkLineOpts(\n",
    "        #     data=[opts.MarkLineItem(type_=\"average\", name=\"平均值\")]\n",
    "        # ),\n",
    "                label_opts=opts.LabelOpts(is_show=False),\n",
    "    )\n",
    "line.add_yaxis(series_name=\"sell-out(2022)\", y_axis=y2, is_smooth=True, \n",
    "               symbol_size=20,\n",
    "               itemstyle_opts=opts.ItemStyleOpts(\n",
    "            border_width=3, border_color=\"yellow\", color=\"blue\"),\n",
    "               \n",
    "        #       markpoint_opts=opts.MarkPointOpts(\n",
    "        #     data=[\n",
    "        #         opts.MarkPointItem(type_=\"max\", name=\"最大值\"),\n",
    "        #         opts.MarkPointItem(type_=\"min\", name=\"最小值\"),\n",
    "        #     ]\n",
    "        # ),\n",
    "        # markline_opts=opts.MarkLineOpts(\n",
    "        #     data=[opts.MarkLineItem(type_=\"average\", name=\"平均值\")]\n",
    "        # ),\n",
    "               label_opts=opts.LabelOpts(is_show=False),)\n",
    "line.set_global_opts(title_opts=opts.TitleOpts(title=\"全球手机销售周报\", subtitle=\"Sell-out\")\n",
    "                     ,tooltip_opts=opts.TooltipOpts(trigger=\"axis\"),\n",
    "        # toolbox_opts=opts.ToolboxOpts(is_show=True),\n",
    "        yaxis_opts=opts.AxisOpts(\n",
    "            type_=\"value\",\n",
    "            axistick_opts=opts.AxisTickOpts(is_show=True),\n",
    "            splitline_opts=opts.SplitLineOpts(is_show=True)\n",
    "        ),\n",
    "        xaxis_opts=opts.AxisOpts(type_=\"category\", boundary_gap=False))"
   ]
  },
  {
   "cell_type": "code",
   "execution_count": 15,
   "id": "83b5511a-466b-412e-9f3f-f883c1def462",
   "metadata": {},
   "outputs": [
    {
     "data": {
      "text/plain": [
       "'D:\\\\workspace\\\\py\\\\jupyterlab_workspace\\\\render.html'"
      ]
     },
     "execution_count": 15,
     "metadata": {},
     "output_type": "execute_result"
    }
   ],
   "source": [
    "line.render()"
   ]
  },
  {
   "cell_type": "code",
   "execution_count": 14,
   "id": "d45b6f00-7fa4-4b5f-9fc2-607194136f32",
   "metadata": {},
   "outputs": [],
   "source": [
    "from snapshot_selenium import snapshot as driver\n",
    "from pyecharts.render import make_snapshot"
   ]
  },
  {
   "cell_type": "code",
   "execution_count": 15,
   "id": "09d08e49-42bd-42eb-98cd-0c9a710b20de",
   "metadata": {},
   "outputs": [
    {
     "ename": "NameError",
     "evalue": "name 'snapshot' is not defined",
     "output_type": "error",
     "traceback": [
      "\u001b[1;31m---------------------------------------------------------------------------\u001b[0m",
      "\u001b[1;31mNameError\u001b[0m                                 Traceback (most recent call last)",
      "Input \u001b[1;32mIn [15]\u001b[0m, in \u001b[0;36m<cell line: 2>\u001b[1;34m()\u001b[0m\n\u001b[0;32m      1\u001b[0m \u001b[38;5;66;03m# make_snapshot(driver,c.render(),'first_bar.png')\u001b[39;00m\n\u001b[1;32m----> 2\u001b[0m make_snapshot(\u001b[43msnapshot\u001b[49m, line\u001b[38;5;241m.\u001b[39mrender(), \u001b[38;5;124m\"\u001b[39m\u001b[38;5;124m001_Options配置项_自定义样式_保存图片.png\u001b[39m\u001b[38;5;124m\"\u001b[39m)\n",
      "\u001b[1;31mNameError\u001b[0m: name 'snapshot' is not defined"
     ]
    }
   ],
   "source": [
    "# make_snapshot(driver,c.render(),'first_bar.png')\n",
    "make_snapshot(snapshot, line.render(), \"001_Options配置项_自定义样式_保存图片.png\")"
   ]
  },
  {
   "cell_type": "code",
   "execution_count": null,
   "id": "ad7f4ce3-b89d-4f7c-b4d9-2386ab03f9ea",
   "metadata": {},
   "outputs": [],
   "source": []
  }
 ],
 "metadata": {
  "kernelspec": {
   "display_name": "Python 3 (ipykernel)",
   "language": "python",
   "name": "python3"
  },
  "language_info": {
   "codemirror_mode": {
    "name": "ipython",
    "version": 3
   },
   "file_extension": ".py",
   "mimetype": "text/x-python",
   "name": "python",
   "nbconvert_exporter": "python",
   "pygments_lexer": "ipython3",
   "version": "3.9.12"
  }
 },
 "nbformat": 4,
 "nbformat_minor": 5
}
